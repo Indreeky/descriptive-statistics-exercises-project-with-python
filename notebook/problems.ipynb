{
    "cells": [
        {
            "cell_type": "markdown",
            "id": "ac622319",
            "metadata": {},
            "source": [
                "# Descriptive statistics problems"
            ]
        },
        {
            "cell_type": "markdown",
            "id": "5e0ab0d5",
            "metadata": {},
            "source": [
                "### Exercise 1\n",
                "\n",
                "We will use NumPy to obtain information to describe statistically.\n",
                "\n",
                "- Generate an array of 100 elements following a normal distribution.\n",
                "- Generate an array of 100 elements following a chi-square distribution with 3 degrees of freedom.\n",
                "- Calculate the main metrics and statistical measures that best describe the two vectors."
            ]
        },
        {
            "cell_type": "code",
            "execution_count": 1,
            "id": "34720ab6",
            "metadata": {},
            "outputs": [
                {
                    "name": "stdout",
                    "output_type": "stream",
                    "text": [
                        "                       Normal        Chi\n",
                        "Media                0.092688   3.151638\n",
                        "Mediana              0.050500   2.351033\n",
                        "Desviación Estándar  0.933445   2.750990\n",
                        "Varianza             0.871319   7.567947\n",
                        "Mínimo              -2.794026   0.098910\n",
                        "Máximo               2.818990  14.031889\n",
                        "Percentil 25        -0.513181   1.362361\n",
                        "Percentil 75         0.610741   3.949087\n",
                        "Asimetría            0.163940   1.782322\n",
                        "Curtosis             0.690688   3.477729\n"
                    ]
                }
            ],
            "source": [
                "import numpy as np\n",
                "import pandas as pd\n",
                "import statistics\n",
                "from scipy.stats import skew, kurtosis, mode\n",
                "\n",
                "normal_arr = np.random.normal(loc=0, scale=1, size=100)\n",
                "chi_arr = np.random.chisquare(df=3, size=100)\n",
                "\n",
                "def calcular_metricas(array):\n",
                "    media = np.mean(array)\n",
                "    mediana = np.median(array)\n",
                "    desviacion_estandar = np.std(array)\n",
                "    varianza = np.var(array)\n",
                "    minimo = np.min(array)\n",
                "    maximo = np.max(array)\n",
                "    percen_25 = np.percentile(array, 25)\n",
                "    percen_75 = np.percentile(array, 75)\n",
                "    asimetria = skew(array)\n",
                "    curtosis = kurtosis(array)\n",
                "    return {\n",
                "        'Media': media,\n",
                "        'Mediana': mediana,\n",
                "        'Desviación Estándar': desviacion_estandar,\n",
                "        'Varianza': varianza,\n",
                "        'Mínimo': minimo,\n",
                "        'Máximo': maximo,\n",
                "        'Percentil 25': percen_25,\n",
                "        'Percentil 75': percen_75,\n",
                "        'Asimetría': asimetria,\n",
                "        'Curtosis': curtosis\n",
                "    }\n",
                "    \n",
                "met_normal = calcular_metricas(normal_arr)   \n",
                "met_chi = calcular_metricas(chi_arr)\n",
                "\n",
                "metricas = pd.DataFrame({\n",
                "    'Normal': met_normal,\n",
                "    'Chi': met_chi\n",
                "})\n",
                "\n",
                "print(metricas)"
            ]
        },
        {
            "cell_type": "markdown",
            "id": "46c70c3d",
            "metadata": {},
            "source": [
                "### Exercise 2\n",
                "\n",
                "Write a Python program to calculate the standard deviation of the following data:\n",
                "\n",
                "```py\n",
                "data = [4, 2, 5, 8, 6]\n",
                "```"
            ]
        },
        {
            "cell_type": "code",
            "execution_count": 2,
            "id": "d590308e",
            "metadata": {},
            "outputs": [
                {
                    "name": "stdout",
                    "output_type": "stream",
                    "text": [
                        "Desviación Estándar: 2.0\n"
                    ]
                }
            ],
            "source": [
                "import math\n",
                "\n",
                "data = [4, 2, 5, 8, 6]\n",
                "\n",
                "media = sum(data) / len(data)\n",
                "dif_alcuadrado = [(x - media) ** 2 for x in data]\n",
                "media_alcuadrado = sum(dif_alcuadrado) / len(data)\n",
                "std_dev = math.sqrt(media_alcuadrado)\n",
                "\n",
                "print(f\"Desviación Estándar: {std_dev}\")"
            ]
        }
    ],
    "metadata": {
        "interpreter": {
            "hash": "9248718ffe6ce6938b217e69dbcc175ea21f4c6b28a317e96c05334edae734bb"
        },
        "kernelspec": {
            "display_name": "Python 3.9.12 ('ML-BOOTCAMP')",
            "language": "python",
            "name": "python3"
        },
        "language_info": {
            "codemirror_mode": {
                "name": "ipython",
                "version": 3
            },
            "file_extension": ".py",
            "mimetype": "text/x-python",
            "name": "python",
            "nbconvert_exporter": "python",
            "pygments_lexer": "ipython3",
            "version": "3.12.3"
        }
    },
    "nbformat": 4,
    "nbformat_minor": 5
}
